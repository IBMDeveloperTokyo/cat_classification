{
    "cells": [
        {
            "metadata": {
                "collapsed": true
            },
            "cell_type": "code",
            "source": "# token \u306e\u8a2d\u5b9a\u3092\u5fd8\u308c\u306a\u3044\u3067\u306d",
            "execution_count": null,
            "outputs": []
        },
        {
            "metadata": {},
            "cell_type": "code",
            "source": "from PIL import Image\nfrom matplotlib import cm\nimport numpy as np\nfrom io import BytesIO\nimport sys\nimport zipfile\n\n# TensorFlow and tf.keras\nimport tensorflow as tf\nfrom tensorflow import keras\n\n# Helper libraries\nimport numpy as np\nimport matplotlib.pyplot as plt\n\nprint(tf.__version__)",
            "execution_count": null,
            "outputs": []
        },
        {
            "metadata": {},
            "cell_type": "code",
            "source": "# \u753b\u50cf\u30c7\u30fc\u30bf\u3092\u8ffd\u52a0\u3057\u307e\u3057\u3087\u3046",
            "execution_count": null,
            "outputs": []
        },
        {
            "metadata": {},
            "cell_type": "code",
            "source": "#  \u753b\u50cf\u306ezip \u30d5\u30a1\u30a4\u30eb\u304b\u3089\u30c7\u30fc\u30bf\u30bb\u30c3\u30c8\u3092\u4f5c\u6210\u3059\u308b\u95a2\u6570\n# \u753b\u50cf\u306e\u30b5\u30a4\u30ba\u3092\uff11\uff12\uff18*\uff1128\u306b\u3059\u308b\ndef zip2array(zip,tag):\n    array_list = []\n    tag_list = []\n    with zipfile.ZipFile(BytesIO(zip.read()), 'r') as zfile:\n        nWaitTime = 1\n        for name in zfile.namelist():\n            if '.JPG' not in name or '__' in name:\n                continue\n            with zfile.open(name,mode='r') as image_file:\n                print(name)\n                content = image_file.read()\n                bytes_io = bytearray(content)\n                img = Image.open(BytesIO(bytes_io)).convert('L')\n                img_resize = img.resize((128, 128),Image.LANCZOS)\n                img_resize.show()\n                img_array = np.array(img_resize)\n                array_list.append(img_array)\n                tag_list.append(tag)\n#                 im = Image.fromarray(img_array.astype('uint8'), 'RGB')\n#                 im.show()\n    return array_list,tag_list",
            "execution_count": null,
            "outputs": []
        },
        {
            "metadata": {},
            "cell_type": "code",
            "source": "#  \u30c7\u30fc\u30bf\u30bb\u30c3\u30c8\u3092\u4f5c\u6210\u3059\u308b\n#  \u30bf\u30b0\uff1a\u3000latte--0\uff0c chitose--1\uff0c cho--2\n\n# \u5b66\u7fd2\u7528\u30c7\u30fc\u30bf\u30bb\u30c3\u30c8\nlatte_X_train,latte_Y_train = zip2array([streaming_body\u3092\u3053\u3053\u306b\u30da\u30b9\u30c8],0)\nchitose_X_train,chitose_Y_train = zip2array([streaming_body\u3092\u3053\u3053\u306b\u30da\u30b9\u30c8],1)\ncho_X_train,cho_Y_train = zip2array([streaming_body\u3092\u3053\u3053\u306b\u30da\u30b9\u30c8],2)\nX_train = latte_X_train + chitose_X_train+cho_X_train\nY_train = latte_Y_train + chitose_Y_train+cho_Y_train\n\nX_train = np.asarray(X_train)\nY_train = np.asarray(Y_train) \n\n\n# \u3000\u30c6\u30b9\u30c8\u7528\u30c7\u30fc\u30bf\u30bb\u30c3\u30c8\nlatte_X_test,latte_Y_test = zip2array(streaming_body_4,0)\nchitose_X_test,chitose_Y_test = zip2array(streaming_body_5,1)\ncho_X_test,cho_Y_test = zip2array(streaming_body_10,2)\nX_test = latte_X_test+ chitose_X_test+cho_X_test\nY_test = latte_Y_test + chitose_Y_test+cho_Y_test\n\nX_test = np.asarray(X_test)\nY_test = np.asarray(Y_test) \n\n#  \u30bf\u30b0\u3092\u78ba\u8a8d\u3059\u308b\nprint(Y_train)\nprint(Y_test)",
            "execution_count": null,
            "outputs": []
        },
        {
            "metadata": {},
            "cell_type": "code",
            "source": "class_names =['latte','chitose','cho']",
            "execution_count": null,
            "outputs": []
        },
        {
            "metadata": {},
            "cell_type": "code",
            "source": "X_train.shape",
            "execution_count": null,
            "outputs": []
        },
        {
            "metadata": {},
            "cell_type": "code",
            "source": "len(Y_train)",
            "execution_count": null,
            "outputs": []
        },
        {
            "metadata": {},
            "cell_type": "code",
            "source": "X_train= X_train / 255.0\n\nX_test = X_test / 255.0",
            "execution_count": null,
            "outputs": []
        },
        {
            "metadata": {},
            "cell_type": "code",
            "source": "# \u3000\u30e2\u30c7\u30eb\u3092\u5b9a\u7fa9\u3059\u308b\nmodel = keras.Sequential([\n    keras.layers.Flatten(input_shape=(128, 128)),\n    keras.layers.Dense(128, activation='relu'),\n    keras.layers.Dense(3)\n])",
            "execution_count": null,
            "outputs": []
        },
        {
            "metadata": {},
            "cell_type": "code",
            "source": "model.compile(optimizer='adam',\n              loss=tf.keras.losses.SparseCategoricalCrossentropy(from_logits=True),\n              metrics=['accuracy'])",
            "execution_count": null,
            "outputs": []
        },
        {
            "metadata": {},
            "cell_type": "code",
            "source": "model.fit(X_train, Y_train, epochs=30)",
            "execution_count": null,
            "outputs": []
        },
        {
            "metadata": {},
            "cell_type": "code",
            "source": "test_loss, test_acc = model.evaluate(X_test,  Y_test, verbose=2)\n\nprint('\\nTest accuracy:', test_acc)",
            "execution_count": null,
            "outputs": []
        },
        {
            "metadata": {},
            "cell_type": "code",
            "source": "#  \u30e2\u30c7\u30eb\u3092\u30c6\u30b9\u30c8\u3057\u307e\u3057\u3087\u3046\nprobability_model = tf.keras.Sequential([model, \n                                         tf.keras.layers.Softmax()])",
            "execution_count": null,
            "outputs": []
        },
        {
            "metadata": {},
            "cell_type": "code",
            "source": "predictions = probability_model.predict(X_test)",
            "execution_count": null,
            "outputs": []
        },
        {
            "metadata": {},
            "cell_type": "code",
            "source": "predictions[6]",
            "execution_count": null,
            "outputs": []
        },
        {
            "metadata": {},
            "cell_type": "code",
            "source": "np.argmax(predictions[0])",
            "execution_count": null,
            "outputs": []
        },
        {
            "metadata": {},
            "cell_type": "code",
            "source": "# \u3000\u30c6\u30b9\u30c8\u753b\u50cf\u306e\u5206\u985e\u7d50\u679c\u3092\u30b0\u30e9\u30d5\u3067\u898b\u308b\u305f\u3081\u306b\u4f5c\u3063\u305f\u95a2\u6570\ndef plot_image(i, predictions_array, true_label, img):\n  predictions_array, true_label, img = predictions_array, true_label[i], img[i]\n  plt.grid(False)\n  plt.xticks([])\n  plt.yticks([])\n\n  plt.imshow(img, cmap=plt.cm.binary)\n\n  predicted_label = np.argmax(predictions_array)\n  if predicted_label == true_label:\n    color = 'blue'\n  else:\n    color = 'red'\n\n  plt.xlabel(\"{} {:2.0f}% ({})\".format(class_names[predicted_label],\n                                100*np.max(predictions_array),\n                                class_names[true_label]),\n                                color=color)\n\ndef plot_value_array(i, predictions_array, true_label):\n  predictions_array, true_label = predictions_array, true_label[i]\n  plt.grid(False)\n  plt.xticks(range(10))\n  plt.yticks([])\n  thisplot = plt.bar(range(3), predictions_array, color=\"#777777\")\n  plt.ylim([0, 1])\n  predicted_label = np.argmax(predictions_array)\n\n  thisplot[predicted_label].set_color('red')\n  thisplot[true_label].set_color('blue')",
            "execution_count": null,
            "outputs": []
        },
        {
            "metadata": {},
            "cell_type": "code",
            "source": "num_rows = 3\nnum_cols = 3\nnum_images = num_rows*num_cols\nplt.figure(figsize=(2*2*num_cols, 2*num_rows))\nfor i in range(num_images):\n  plt.subplot(num_rows, 2*num_cols, 2*i+1)\n  plot_image(i, predictions[i], Y_test, X_test)\n  plt.subplot(num_rows, 2*num_cols, 2*i+2)\n  plot_value_array(i, predictions[i], Y_test)\nplt.tight_layout()\nplt.show()",
            "execution_count": null,
            "outputs": []
        }
    ],
    "metadata": {
        "kernelspec": {
            "name": "python3",
            "display_name": "Python 3.8",
            "language": "python"
        },
        "language_info": {
            "name": "python",
            "version": "3.8.12",
            "mimetype": "text/x-python",
            "codemirror_mode": {
                "name": "ipython",
                "version": 3
            },
            "pygments_lexer": "ipython3",
            "nbconvert_exporter": "python",
            "file_extension": ".py"
        }
    },
    "nbformat": 4,
    "nbformat_minor": 1
}